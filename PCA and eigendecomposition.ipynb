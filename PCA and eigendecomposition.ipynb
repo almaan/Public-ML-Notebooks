{
 "cells": [
  {
   "cell_type": "markdown",
   "metadata": {},
   "source": [
    "# PCA and Eigendecomposition"
   ]
  },
  {
   "cell_type": "markdown",
   "metadata": {},
   "source": [
    "## Steps"
   ]
  },
  {
   "cell_type": "markdown",
   "metadata": {},
   "source": [
    "1. Generate bi-variate normal random numbers\n",
    "2. Perform PCA on the bi-variate normal random numbers\n",
    "3. Perform PCA step-by-step\n",
    "4. Perform eigendecomposition step-by-step"
   ]
  },
  {
   "cell_type": "markdown",
   "metadata": {},
   "source": [
    "## Generate bi-variate normal random numbers"
   ]
  },
  {
   "cell_type": "markdown",
   "metadata": {},
   "source": [
    "Generate random numbers from the same multivariate normal distribution. Define $\\mu$ and $\\mathit{Cov}$, and generate $100$ random numbers.\n",
    "\n",
    "Covariances of multivariate normal distributions, specified as a $d$-by-$d$ (here $d=2$) symmetric, positive semi-definite matrix $\\mathit{Cov}$, the covariance matrix. The covariance matrix is diagonal, containing variances along the diagonal and the covariance off it."
   ]
  },
  {
   "cell_type": "code",
   "execution_count": 252,
   "metadata": {},
   "outputs": [],
   "source": [
    "import numpy as np\n",
    "import matplotlib.pyplot as plt\n",
    "from matplotlib import rcParams\n",
    "\n",
    "rcParams[\"figure.facecolor\"] =\"white\""
   ]
  },
  {
   "cell_type": "code",
   "execution_count": 253,
   "metadata": {},
   "outputs": [],
   "source": [
    "mu = np.array([2,3])\n",
    "Cov = np.array([[2,1.5],[1.5,4]])\n",
    "np.random.seed(1337)\n",
    "R = np.random.multivariate_normal(mu,Cov,size = 100)\n",
    "R = R.astype(np.float64)"
   ]
  },
  {
   "cell_type": "markdown",
   "metadata": {},
   "source": [
    "Plot the random numbers."
   ]
  },
  {
   "cell_type": "code",
   "execution_count": 254,
   "metadata": {},
   "outputs": [
    {
     "data": {
      "image/png": "[encoded data removed]",
      "text/plain": [
       "<Figure size 720x720 with 1 Axes>"
      ]
     },
     "metadata": {},
     "output_type": "display_data"
    }
   ],
   "source": [
    "fig,ax = plt.subplots(1,1,figsize = (10,10))\n",
    "\n",
    "ax.scatter(R[:,0],R[:,1],marker =\"+\",s = 20,color = \"blue\")\n",
    "plt.show()"
   ]
  },
  {
   "cell_type": "markdown",
   "metadata": {},
   "source": [
    "Check sample variance and covariance of the generated data points and the sample correlation between the variables."
   ]
  },
  {
   "cell_type": "code",
   "execution_count": 255,
   "metadata": {},
   "outputs": [
    {
     "name": "stdout",
     "output_type": "stream",
     "text": [
      "Sample Covariance :\n",
      " [[1.75756777 1.01884407]\n",
      " [1.01884407 3.61131405]]\n",
      "Sample Correlation :\n",
      " [[1.         0.40440736]\n",
      " [0.40440736 1.        ]]\n"
     ]
    }
   ],
   "source": [
    "Sample_cov = np.cov(R.T)\n",
    "Cor = np.corrcoef(R.T)\n",
    "print(\"Sample Covariance :\\n {}\".format(Sample_cov))\n",
    "print(\"Sample Correlation :\\n {}\".format(Cor))"
   ]
  },
  {
   "cell_type": "markdown",
   "metadata": {},
   "source": [
    "Covariance and variance: \n",
    "$$\\mathit{Cov}(X,Y)=\\frac{1}{n}\\sum_{i=1}^n((x_i-\\mu_X)(y_i-\\mu_Y))$$\n",
    "$$\\mathit{Var}(X)=\\mathit{Cov}(X,X)=\\sigma_X^2$$ \n",
    "\n",
    "Pearson's coefficient of correlation $$\\mathit{Cor}(X, Y)=\\frac{\\mathit{Cov}(X, Y)}{\\sigma_X \\sigma_Y}=\\frac{\\mathit{Cov}(X, Y)}{\\sqrt{\\mathit{Var}(X)} \\sqrt{\\mathit{Var}(Y)}}$$ \n",
    "\n",
    "In our example $\\mathit{Cov}(X, Y)=1.0188$, $\\mathit{Var}(X)=1.7576$, and $\\mathit{Var}(Y)=3.611$. As expected:"
   ]
  },
  {
   "cell_type": "code",
   "execution_count": 256,
   "metadata": {},
   "outputs": [
    {
     "name": "stdout",
     "output_type": "stream",
     "text": [
      "0.40440374628480535\n"
     ]
    }
   ],
   "source": [
    "r = 1.0188/(np.sqrt(1.7576)*np.sqrt(3.611))\n",
    "print(r)"
   ]
  },
  {
   "cell_type": "markdown",
   "metadata": {},
   "source": [
    "## Perform PCA on the bi-variate normal random numbers"
   ]
  },
  {
   "cell_type": "code",
   "execution_count": 257,
   "metadata": {},
   "outputs": [],
   "source": [
    "from sklearn.decomposition import PCA"
   ]
  },
  {
   "cell_type": "code",
   "execution_count": 258,
   "metadata": {},
   "outputs": [
    {
     "data": {
      "text/plain": [
       "array([0.75654615, 0.24345385])"
      ]
     },
     "execution_count": 258,
     "metadata": {},
     "output_type": "execute_result"
    }
   ],
   "source": [
    "pca = PCA(n_components=2)\n",
    "pca.fit(R)\n",
    "pca.explained_variance_\n",
    "pca.explained_variance_ratio_"
   ]
  },
  {
   "cell_type": "markdown",
   "metadata": {},
   "source": [
    "Check the correlation of the scores. As expected:"
   ]
  },
  {
   "cell_type": "code",
   "execution_count": 259,
   "metadata": {},
   "outputs": [
    {
     "data": {
      "text/plain": [
       "array([[ 1.00000000e+00, -2.11568637e-16],\n",
       "       [-2.11568637e-16,  1.00000000e+00]])"
      ]
     },
     "execution_count": 259,
     "metadata": {},
     "output_type": "execute_result"
    }
   ],
   "source": [
    "np.corrcoef(pca.transform(R).T)"
   ]
  },
  {
   "cell_type": "markdown",
   "metadata": {},
   "source": [
    "The eigenvectors are unit vectors and orthogonal, therefore the $2$-Norm is $1$ and the inner (scalar, dot) product is 0."
   ]
  },
  {
   "cell_type": "code",
   "execution_count": 260,
   "metadata": {},
   "outputs": [
    {
     "name": "stdout",
     "output_type": "stream",
     "text": [
      "1.0\n",
      "1.0\n",
      "0.0\n"
     ]
    }
   ],
   "source": [
    "print(np.linalg.norm(pca.components_[:,0]))\n",
    "print(np.linalg.norm(pca.components_[:,1]))\n",
    "print(np.dot(pca.components_[:,0],pca.components_[:,1]))"
   ]
  },
  {
   "cell_type": "markdown",
   "metadata": {},
   "source": [
    "Produce a biplot of the scores and loading vectors of the two principle components."
   ]
  },
  {
   "cell_type": "code",
   "execution_count": 261,
   "metadata": {},
   "outputs": [],
   "source": [
    "def biplot(ax,trans_R,components):\n",
    "    ax.scatter(trans_R[:,0],trans_R[:,1],c = \"red\",s = 10)\n",
    "    for v,vn in enumerate([\"X\",\"Y\"]):\n",
    "        ax.arrow(0,0,components[v,0],components[v,1], color = \"blue\")\n",
    "        ax.text(components[v,0],components[v,1],s = vn,fontsize = 20)\n",
    "\n",
    "    ax.axhline(0, color = \"black\",linewidth = 1)\n",
    "    ax.axvline(0,color = \"black\",linewidth = 1)\n",
    "    ax.set_xlabel(\"Component 1\",fontsize = 20)\n",
    "    ax.set_ylabel(\"Component 2\",fontsize = 20)\n",
    "    ax.set_aspect(\"equal\")"
   ]
  },
  {
   "cell_type": "code",
   "execution_count": 262,
   "metadata": {},
   "outputs": [
    {
     "data": {
      "image/png": "[encoded data removed]",
      "text/plain": [
       "<Figure size 720x720 with 1 Axes>"
      ]
     },
     "metadata": {},
     "output_type": "display_data"
    }
   ],
   "source": [
    "fig,ax = plt.subplots(1,1,figsize = (10,10))\n",
    "trans_R = pca.transform(R)\n",
    "biplot(ax,trans_R,pca.components_)\n",
    "plt.show()"
   ]
  },
  {
   "cell_type": "code",
   "execution_count": 263,
   "metadata": {},
   "outputs": [
    {
     "ename": "TypeError",
     "evalue": "biplot() takes 3 positional arguments but 5 were given",
     "output_type": "error",
     "traceback": [
      "\u001b[0;31m---------------------------------------------------------------------------\u001b[0m",
      "\u001b[0;31mTypeError\u001b[0m                                 Traceback (most recent call last)",
      "\u001b[0;32m<ipython-input-263-1f861e24b702>\u001b[0m in \u001b[0;36m<module>\u001b[0;34m\u001b[0m\n\u001b[0;32m----> 1\u001b[0;31m \u001b[0mbiplot\u001b[0m\u001b[0;34m(\u001b[0m\u001b[0mloading_vector\u001b[0m\u001b[0;34m,\u001b[0m\u001b[0;34m'scores'\u001b[0m\u001b[0;34m,\u001b[0m\u001b[0mscore\u001b[0m\u001b[0;34m,\u001b[0m\u001b[0;34m'varlabels'\u001b[0m\u001b[0;34m,\u001b[0m\u001b[0;34m{\u001b[0m\u001b[0;34m'X'\u001b[0m\u001b[0;34m,\u001b[0m\u001b[0;34m'Y'\u001b[0m\u001b[0;34m}\u001b[0m\u001b[0;34m)\u001b[0m\u001b[0;34m;\u001b[0m\u001b[0;34m\u001b[0m\u001b[0;34m\u001b[0m\u001b[0m\n\u001b[0m",
      "\u001b[0;31mTypeError\u001b[0m: biplot() takes 3 positional arguments but 5 were given"
     ]
    }
   ],
   "source": [
    "biplot(loading_vector,'scores',score,'varlabels',{'X','Y'});"
   ]
  },
  {
   "cell_type": "markdown",
   "metadata": {},
   "source": [
    "## Perform PCA step-by-step"
   ]
  },
  {
   "cell_type": "markdown",
   "metadata": {},
   "source": [
    "1. Center and Standardize, i.e., subtracting the mean of the data from the original dataset\n",
    "2. Find the covariance matrix of the dataset\n",
    "3. Find the eigenvectors associated with the greatest eigenvalues of the covariance matrix\n",
    "4. Project the original dataset on the eigenvectors"
   ]
  },
  {
   "cell_type": "markdown",
   "metadata": {},
   "source": [
    "### Standardize"
   ]
  },
  {
   "cell_type": "markdown",
   "metadata": {},
   "source": [
    "Compute standard scores (commonly called $z$-scores) defined as $z_i=\\frac{x_i-\\mu_X}{\\sigma_X}$."
   ]
  },
  {
   "cell_type": "code",
   "execution_count": null,
   "metadata": {},
   "outputs": [],
   "source": [
    "data = (R - np.mean(R,axis=0,keepdims=True)) / np.std(R,axis=0,keepdims=True)"
   ]
  },
  {
   "cell_type": "markdown",
   "metadata": {},
   "source": [
    "### Find the covariance matrix "
   ]
  },
  {
   "cell_type": "markdown",
   "metadata": {},
   "source": [
    "As before. Check out the effect of standardization on the covariance matrix."
   ]
  },
  {
   "cell_type": "code",
   "execution_count": null,
   "metadata": {},
   "outputs": [],
   "source": [
    "Cov = np.cov(data.T)\n",
    "Cov"
   ]
  },
  {
   "cell_type": "markdown",
   "metadata": {},
   "source": [
    "### Find the eigenvectors and eigenvalues "
   ]
  },
  {
   "cell_type": "markdown",
   "metadata": {},
   "source": [
    "Recall the definition of eigenvectors $v$ and -values $\\lambda$: $A v = \\lambda v$, where $A$ is an $n$-by-$n$ matrix, $v$ is a column vector of length $n$, and $\\lambda$ is a scalar."
   ]
  },
  {
   "cell_type": "code",
   "execution_count": null,
   "metadata": {},
   "outputs": [],
   "source": [
    "eigvals,loading_vector = np.linalg.eigh(Cov)\n",
    "loading_vector,eigvals"
   ]
  },
  {
   "cell_type": "markdown",
   "metadata": {},
   "source": [
    "Mind that the second eigenvalue of $1.41859$ is larger than the first eigenvalue of $0.60160$."
   ]
  },
  {
   "cell_type": "markdown",
   "metadata": {},
   "source": [
    "Lets check if $\\mathit{Cov}\\ v=\\lambda v$ for the two eigenvectors and -values. As expected:"
   ]
  },
  {
   "cell_type": "code",
   "execution_count": null,
   "metadata": {},
   "outputs": [],
   "source": [
    "assert np.all(np.dot(Cov,loading_vector[:,0]) == loading_vector[:,0]*eigvals[0])\n",
    "assert np.all(np.dot(Cov,loading_vector[:,1]) == loading_vector[:,1]*eigvals[1])"
   ]
  },
  {
   "cell_type": "markdown",
   "metadata": {},
   "source": [
    "The eigenvectors returned are unit vectors and orthogonal, therefore the $2$-Norm is $1$ and the inner (scalar, dot) product is 0."
   ]
  },
  {
   "cell_type": "code",
   "execution_count": null,
   "metadata": {},
   "outputs": [],
   "source": [
    "print(np.linalg.norm(pca.components_[:,0]))\n",
    "print(np.linalg.norm(pca.components_[:,1]))\n",
    "print(np.dot(pca.components_[:,0],pca.components_[:,1]))"
   ]
  },
  {
   "cell_type": "markdown",
   "metadata": {},
   "source": [
    "### Project the original dataset on the eigenvectors"
   ]
  },
  {
   "cell_type": "markdown",
   "metadata": {},
   "source": [
    "Compute the scores of the data points corresponding to the two principle components. Since the second eigenvalue of $1.41859$ is larger than the first eigenvalue of $0.60160$, we need to flip the scores left/right since the second column is first principle component (the one with the largest eigenvalue).\n",
    "\n",
    "In `numpy`, the operation `A.T` computes the transpose $A^T$ of a matrix $A$."
   ]
  },
  {
   "cell_type": "markdown",
   "metadata": {},
   "source": [
    "Check the correlation of the scores. As expected:"
   ]
  },
  {
   "cell_type": "code",
   "execution_count": null,
   "metadata": {},
   "outputs": [],
   "source": [
    "np.corrcoef(score.T)"
   ]
  },
  {
   "cell_type": "markdown",
   "metadata": {},
   "source": [
    "Produce a biplot of the scores and loading vectors of the two principle components."
   ]
  },
  {
   "cell_type": "code",
   "execution_count": null,
   "metadata": {},
   "outputs": [],
   "source": [
    "fig,ax = plt.subplots(1,1,figsize=(10,10))\n",
    "biplot(ax,score,loading_vector)"
   ]
  },
  {
   "cell_type": "markdown",
   "metadata": {},
   "source": [
    "The eigenvalues of the covariance matrix indicate the variance in this (new) coordinate direction. We can use this information to calculate the relative variance explained by each component: for each component, we divide the variances according to the eigenvectors by the sum of the variances. In our example, the 1st and 2nd principal component contains $70.02$ and $20.78$ percent of the total variance in data."
   ]
  },
  {
   "cell_type": "code",
   "execution_count": null,
   "metadata": {},
   "outputs": [],
   "source": [
    "var_score= np.var(score,axis=0)\n",
    "ratio_var_score = var_score / np.sum(var_score)\n",
    "print(var_score)\n",
    "print(ratio_var_score)"
   ]
  },
  {
   "cell_type": "markdown",
   "metadata": {},
   "source": [
    "**Q:** *Why does this look differently compared to the plot when using the `pca` library? Fix the problem!*\n",
    "<br>\n",
    "**A:** : Because the `sklearn` pca package does not perform any z-transformation"
   ]
  },
  {
   "cell_type": "code",
   "execution_count": 268,
   "metadata": {},
   "outputs": [],
   "source": [
    "Cov  = np.cov(R.T)\n",
    "eigvals,loading_vector = np.linalg.eigh(Cov)\n",
    "loading_vector = -loading_vector\n",
    "score = np.dot(loading_vector,data.T)\n",
    "score = score.T\n",
    "score = np.fliplr(score)"
   ]
  },
  {
   "cell_type": "code",
   "execution_count": 266,
   "metadata": {},
   "outputs": [
    {
     "data": {
      "image/png": "[encoded data removed]",
      "text/plain": [
       "<Figure size 720x720 with 1 Axes>"
      ]
     },
     "metadata": {},
     "output_type": "display_data"
    }
   ],
   "source": [
    "fig,ax = plt.subplots(1,1,figsize = (10,10))\n",
    "biplot(ax,score,loading_vector)"
   ]
  },
  {
   "cell_type": "markdown",
   "metadata": {},
   "source": [
    "## Perform eigendecomposition step-by-step"
   ]
  },
  {
   "cell_type": "markdown",
   "metadata": {},
   "source": [
    "### Eigenvalues"
   ]
  },
  {
   "cell_type": "markdown",
   "metadata": {},
   "source": [
    "We find the eigenvalues of an $n\\times n$ (covariance) matrix $C$ by solving the so-called characteristic equation\n",
    "$\\det(C – \\lambda I) = 0$ where $I$ is the identity matrix of size $n$."
   ]
  },
  {
   "cell_type": "markdown",
   "metadata": {},
   "source": [
    "Here $C=\\mathit{Cov}$ is a $2\\times 2$ matrix and the determinant of such a matrix is defiend as $\\det(C)=c_{11}c_{22}-c_{12}c_{21}$. Hence, we need to solve:\n",
    "\n",
    "\\begin{align}\n",
    "\\det(\\mathit{Cov} – \\lambda I) &=(\\mathit{Cov}_{11}-\\lambda)(\\mathit{Cov}_{22}-\\lambda)-\\mathit{Cov}_{12}\\mathit{Cov}_{21}\\\\\n",
    "    &=\\lambda^2 -(\\mathit{Cov}_{11}+\\mathit{Cov}_{22})\\lambda +\\mathit{Cov}_{11}\\mathit{Cov}_{22} -\\mathit{Cov}_{12}\\mathit{Cov}_{21}\\\\\n",
    "    &=0\n",
    "\\end{align}\n",
    "\n",
    "It's a quadriatic equation in $\\lambda$ with, in general, two solutions."
   ]
  },
  {
   "cell_type": "code",
   "execution_count": 269,
   "metadata": {},
   "outputs": [
    {
     "name": "stdout",
     "output_type": "stream",
     "text": [
      "[4.061806895117146, 1.307074925330878]\n"
     ]
    }
   ],
   "source": [
    "a = 1\n",
    "b = (Cov[0,0] + Cov[1,1])\n",
    "c = Cov[0,0]*Cov[1,1] - Cov[0,1]*Cov[1,0]\n",
    "\n",
    "p = b/2\n",
    "q = np.sqrt(p**2 - c)\n",
    "eigenvalues = [p + q, p - q]\n",
    "print(eigenvalues)"
   ]
  },
  {
   "cell_type": "markdown",
   "metadata": {},
   "source": [
    "Let's test the two solutions $\\lambda_1$ and $\\lambda_2$. As expected:"
   ]
  },
  {
   "cell_type": "code",
   "execution_count": 271,
   "metadata": {},
   "outputs": [
    {
     "name": "stdout",
     "output_type": "stream",
     "text": [
      "-2.220446049250313e-16\n",
      "0.0\n"
     ]
    }
   ],
   "source": [
    "print(eigvals[0] - eigenvalues[1])\n",
    "print(eigvals[1] - eigenvalues[0])"
   ]
  },
  {
   "cell_type": "markdown",
   "metadata": {},
   "source": [
    "### Eigenvectors"
   ]
  },
  {
   "cell_type": "markdown",
   "metadata": {},
   "source": [
    "All that's left is to find the two eigenvectors $v_1, v_2$. We understand that by definition:\n",
    "\n",
    "\\begin{align}\n",
    "Cv&=\\lambda v\\\\\n",
    "Cv-\\lambda v&=0\\\\\n",
    "Cv-\\lambda I v&=0\\\\\n",
    "(C-\\lambda I) v&=0\\\\\n",
    "\\end{align}\n",
    "\n",
    "This is nothing but solving a linear equation system."
   ]
  },
  {
   "cell_type": "markdown",
   "metadata": {},
   "source": [
    "Before, we compute the eigenvector $v_1$ associated with the eigenvalue $\\lambda_1=1.6253$, we first, check if a solution exits. Therfore, we comput the rank, the determinat, and the reduced row echelon form of the matrix $A_1=C – \\lambda_1 I$.\n",
    "\n",
    "In `Matlab` the function `rref` computes the [reduced row echelon form](https://en.wikipedia.org/wiki/Row_echelon_form) of a matrix resulting from a [Gaussian elimination](https://en.wikipedia.org/wiki/Gaussian_elimination)."
   ]
  },
  {
   "cell_type": "code",
   "execution_count": 272,
   "metadata": {},
   "outputs": [],
   "source": [
    "def red2dmat(A: np.ndarray)->np.ndarray:\n",
    "    X = A.copy()\n",
    "    X[0,:] = A[0,:] / A[0,0]\n",
    "    X[1,:] = X[1,:] - X[0,:] * X[1,0]\n",
    "    return X"
   ]
  },
  {
   "cell_type": "code",
   "execution_count": 273,
   "metadata": {},
   "outputs": [
    {
     "name": "stdout",
     "output_type": "stream",
     "text": [
      "1\n",
      "-1.5349315959395235e-15\n",
      "[[ 1. -1.]\n",
      " [ 0.  0.]]\n"
     ]
    }
   ],
   "source": [
    "from scipy.linalg import lu\n",
    "A1 = Cov - np.eye(2)*eigenvalues[0]\n",
    "A1_rank = np.linalg.matrix_rank(A1)\n",
    "A1_det = np.linalg.det(A1)\n",
    "A1_red = red2dmat(A1)\n",
    "\n",
    "print(A1_rank)\n",
    "print(A1_det)\n",
    "print(A1_rref)"
   ]
  },
  {
   "cell_type": "markdown",
   "metadata": {},
   "source": [
    "As we see, we have a *general* problem: the matrix $A_1$ is not fully ranked, hence, the linear equation system is underdetermined, i.e. we have infinitly many solution. Consequently, its deteminat is 0 and $A_1$ is, hence, not invertible."
   ]
  },
  {
   "cell_type": "markdown",
   "metadata": {},
   "source": [
    "However, the length and the orientation of an eigenvector $v$ are arbitrary. So we can set the last entry to anything, say $v_1(2) =1$, compute $v_1(1)$, and then fix the length of $v$ to get a unit vector. \n",
    "\n",
    "Let $𝐴_1$ be in reduced row echelon form, i.e. $A_1(i,i)=1$, and $v_1(2) =1$. The linear equation reduces to\n",
    "\n",
    "\\begin{align}\n",
    "A_1(1,1)v_1(1) + A_1(1,2)v_1(2) & = 0\\\\\n",
    "1v_1(1) + A_1(1,2)1 & = 0\\\\\n",
    "v_1(1) + A_1(1,2) & = 0\\\\\n",
    "v_1(1) & = - A_1(1,2) \\\\\n",
    "\\end{align}\n",
    "\n",
    "To make it a unit length vector, we divide by the length ($2$-norm) of the vector."
   ]
  },
  {
   "cell_type": "code",
   "execution_count": 274,
   "metadata": {},
   "outputs": [
    {
     "name": "stdout",
     "output_type": "stream",
     "text": [
      "[0.4043936  0.91458505]\n"
     ]
    }
   ],
   "source": [
    "v1 = np.array([-A1_red[0,1],1])\n",
    "eigenvector1 = v1 / np.linalg.norm(v1)\n",
    "print(eigenvector1)"
   ]
  },
  {
   "cell_type": "markdown",
   "metadata": {},
   "source": [
    "Finally, we are ready to compute the eigenvector $v_2$ associated with the eigenvalue $\\lambda_2=1.307$ in the same way."
   ]
  },
  {
   "cell_type": "code",
   "execution_count": 276,
   "metadata": {},
   "outputs": [
    {
     "name": "stdout",
     "output_type": "stream",
     "text": [
      "[-0.91458505  0.4043936 ]\n"
     ]
    }
   ],
   "source": [
    "A2 = Cov - np.eye(2)*eigenvalues[1]\n",
    "A2_red = red2dmat(A2)\n",
    "v2 = np.array([-A2_red[0,1],1])\n",
    "eigenvector2 = v2 / np.linalg.norm(v2)\n",
    "print(eigenvector2)"
   ]
  },
  {
   "cell_type": "markdown",
   "metadata": {},
   "source": [
    "## References"
   ]
  },
  {
   "cell_type": "markdown",
   "metadata": {},
   "source": [
    "1. http://mres.uni-potsdam.de/index.php/2017/09/14/principal-component-analysis-in-6-steps/\n",
    "2. https://www.youtube.com/watch?v=ssfMqFycXOU"
   ]
  }
 ],
 "metadata": {
  "kernelspec": {
   "display_name": "Python 3",
   "language": "python",
   "name": "python3"
  },
  "language_info": {
   "codemirror_mode": {
    "name": "ipython",
    "version": 3
   },
   "file_extension": ".py",
   "mimetype": "text/x-python",
   "name": "python",
   "nbconvert_exporter": "python",
   "pygments_lexer": "ipython3",
   "version": "3.7.5"
  }
 },
 "nbformat": 4,
 "nbformat_minor": 2
}
